{
 "cells": [
  {
   "cell_type": "markdown",
   "metadata": {},
   "source": [
    "### Computations with $S$-characters\n",
    "\n",
    "The following inputs describe computations for the paper [Zeros of $S$-characters](https://arxiv.org/abs/2408.16785), in Julia sessions with 128 GB of memory.\n",
    "\n",
    "Some of these computations take several hours of CPU time."
   ]
  },
  {
   "cell_type": "code",
   "execution_count": 1,
   "metadata": {},
   "outputs": [],
   "source": [
    "using S_characters"
   ]
  },
  {
   "cell_type": "code",
   "execution_count": 2,
   "metadata": {},
   "outputs": [],
   "source": [
    "using Oscar"
   ]
  },
  {
   "cell_type": "markdown",
   "metadata": {},
   "source": [
    "Run over all groups with at most 14 conjugacy classes.\n",
    "(Currently there are no classifications of groups with more classes.)\n",
    "\n",
    "This computation furnishes a proof of Theorem 1 in the [article mentioned above](https://arxiv.org/abs/2408.16785)."
   ]
  },
  {
   "cell_type": "code",
   "execution_count": 3,
   "metadata": {},
   "outputs": [
    {
     "name": "stdout",
     "output_type": "stream",
     "text": [
      "A8: 1 solution\n"
     ]
    }
   ],
   "source": [
    "for k in 2:14\n",
    "  for g in all_groups_with_class_number(k)\n",
    "    t = character_table(g)\n",
    "    res = s_characters(t, rational = false, ppow_nonzero = true)\n",
    "    length(res) != 0 && println(describe(g), \": \", ItemQuantity(length(res), \"solution\"))\n",
    "  end\n",
    "end"
   ]
  },
  {
   "cell_type": "markdown",
   "metadata": {},
   "source": [
    "Run over all library character tables with at most 20 classes (currently 340 tables)."
   ]
  },
  {
   "cell_type": "code",
   "execution_count": 4,
   "metadata": {},
   "outputs": [
    {
     "name": "stdout",
     "output_type": "stream",
     "text": [
      "A8: 1 solution\n",
      "A9: 3 solutions\n",
      "J1: 1 solution\n",
      "M12: 1 solution\n",
      "U4(2): 2 solutions\n"
     ]
    }
   ],
   "source": [
    "for nam in all_character_table_names(\n",
    "             number_of_conjugacy_classes => 1:20, !is_duplicate_table)\n",
    "  t = character_table(nam)\n",
    "  res = s_characters(t, rational = false, ppow_nonzero = true)\n",
    "  length(res) != 0 && println(nam, \": \", ItemQuantity(length(res), \"solution\"))\n",
    "end"
   ]
  },
  {
   "cell_type": "markdown",
   "metadata": {},
   "source": [
    "Run over all Atlas library tables of order at most the order of A8.\n",
    "\n",
    "This needs about 4000 seconds."
   ]
  },
  {
   "cell_type": "code",
   "execution_count": 5,
   "metadata": {},
   "outputs": [
    {
     "name": "stdout",
     "output_type": "stream",
     "text": [
      "A8: 1 solution\n"
     ]
    }
   ],
   "source": [
    "for nam in all_character_table_names(\n",
    "             is_atlas_character_table, !is_duplicate_table,\n",
    "             order => 2:div(factorial(8), 2),\n",
    "             ordered_by = number_of_conjugacy_classes)\n",
    "  t = character_table(nam)\n",
    "  res = s_characters(t, rational = false, ppow_nonzero = true)\n",
    "  length(res) != 0 && println(nam, \": \", ItemQuantity(length(res), \"solution\"))\n",
    "end"
   ]
  },
  {
   "cell_type": "markdown",
   "metadata": {},
   "source": [
    "Run over all library character tables (*not nec.* Atlas tables) of perfect groups with at most 40 classes, excluding those tables for which Julia crashed (with 128GB of space). Search only for *rational* examples.\n",
    "\n",
    "This needs about 30000 seconds."
   ]
  },
  {
   "cell_type": "code",
   "execution_count": 6,
   "metadata": {},
   "outputs": [
    {
     "name": "stdout",
     "output_type": "stream",
     "text": [
      "A8: 1 solution\n",
      "J1: 1 solution\n",
      "M12: 1 solution\n",
      "A9: 3 solutions\n",
      "U4(2): 2 solutions\n",
      "J2: 155 solutions\n",
      "J3: 5 solutions\n",
      "2F4(2)': 71 solutions\n",
      "G2(3): 24 solutions\n",
      "2.A8: 3 solutions\n",
      "McL: 2588 solutions\n",
      "HS: 93 solutions\n",
      "A10: 1 solution\n",
      "2^4.a8: 3 solutions\n",
      "2^4:a8: 3 solutions\n",
      "2.M12: 1 solution\n",
      "M24: 223 solutions\n",
      "L5(2): 11 solutions\n",
      "S4(4): 133 solutions\n",
      "L4(3): 6 solutions\n",
      "S6(2): 1 solution\n",
      "2.A9: 13 solutions\n",
      "A11: 6 solutions\n",
      "S4(5): 76 solutions\n",
      "2.U4(2): 3 solutions\n",
      "R(27): 9 solutions\n",
      "2.J2: 2726 solutions\n",
      "2.A10: 4 solutions"
     ]
    }
   ],
   "source": [
    "crashes = [ \"O8-(2)\", \"3D4(2)\", \"G2(4)\", \"He\", \"Ru\", \"ON\" ];\n",
    "\n",
    "for nam in all_character_table_names(\n",
    "             is_perfect => true,\n",
    "             !is_duplicate_table,\n",
    "             number_of_conjugacy_classes => 2:40,\n",
    "             ordered_by = number_of_conjugacy_classes)\n",
    "  if !(nam in crashes)\n",
    "    t = character_table(nam)\n",
    "    res = s_characters(t, rational = true, ppow_nonzero = true)\n",
    "    length(res) != 0 && println(nam, \": \", ItemQuantity(length(res), \"solution\"))\n",
    "  end\n",
    "end"
   ]
  },
  {
   "cell_type": "markdown",
   "metadata": {},
   "source": [
    "Run over all library character tables of non-perfect ATLAS groups with at most 40 classes, excluding those tables for which Julia crashed (with 128GB of space). Search only for *rational* examples.\n",
    "\n",
    "This needs about 2000 seconds."
   ]
  },
  {
   "cell_type": "code",
   "execution_count": 7,
   "metadata": {},
   "outputs": [
    {
     "name": "stdout",
     "output_type": "stream",
     "text": [
      "M12.2: 1 solution\n",
      "J2.2: 12 solutions\n",
      "2F4(2)'.2: 7 solutions\n",
      "S4(4).2: 5 solutions\n",
      "L5(2).2: 3 solutions\n",
      "2.M12.2: 1 solution"
     ]
    }
   ],
   "source": [
    "crashes2 = [ \"HS.2\", \"G2(4).2\", \"McL.2\" ];\n",
    "\n",
    "for nam in all_character_table_names(\n",
    "             is_atlas_character_table, !is_duplicate_table,\n",
    "             is_perfect => false,\n",
    "             number_of_conjugacy_classes => 2:40,\n",
    "             ordered_by = number_of_conjugacy_classes)\n",
    "  t = character_table(nam)\n",
    "  if !(nam in crashes2)\n",
    "    res = s_characters(t, rational = true, ppow_nonzero = true)\n",
    "    length(res) != 0 && println(nam, \": \", ItemQuantity(length(res), \"solution\"))\n",
    "  end\n",
    "end"
   ]
  },
  {
   "cell_type": "markdown",
   "metadata": {},
   "source": [
    "Try some Atlas groups with more conjugacy classes, using the two-step approach. Search only for *rational* examples.\n",
    "\n",
    "This needs about 8000 seconds."
   ]
  },
  {
   "cell_type": "code",
   "execution_count": 8,
   "metadata": {},
   "outputs": [
    {
     "data": {
      "text/plain": [
       "59"
      ]
     },
     "execution_count": 8,
     "metadata": {},
     "output_type": "execute_result"
    }
   ],
   "source": [
    "res = s_characters_via_factor_group(character_table(\"2.A11\"), # 49 classes\n",
    "        [1, 2], rational = true, ppow_nonzero = true);\n",
    "length(res)"
   ]
  },
  {
   "cell_type": "code",
   "execution_count": 9,
   "metadata": {},
   "outputs": [
    {
     "data": {
      "text/plain": [
       "2304"
      ]
     },
     "execution_count": 9,
     "metadata": {},
     "output_type": "execute_result"
    }
   ],
   "source": [
    "res = s_characters_via_factor_group(character_table(\"2.HS\"), # 42 classes\n",
    "        [1, 2], rational = true, ppow_nonzero = true);\n",
    "length(res)"
   ]
  },
  {
   "cell_type": "code",
   "execution_count": 10,
   "metadata": {},
   "outputs": [
    {
     "data": {
      "text/plain": [
       "2707"
      ]
     },
     "execution_count": 10,
     "metadata": {},
     "output_type": "execute_result"
    }
   ],
   "source": [
    "res = s_characters_via_factor_group(character_table(\"2^5.L5(2)\"), # 41 classes\n",
    "        [1, 2], rational = true, ppow_nonzero = true);\n",
    "length(res)"
   ]
  },
  {
   "cell_type": "code",
   "execution_count": 11,
   "metadata": {},
   "outputs": [
    {
     "data": {
      "text/plain": [
       "9"
      ]
     },
     "execution_count": 11,
     "metadata": {},
     "output_type": "execute_result"
    }
   ],
   "source": [
    "res = s_characters_via_factor_group(character_table(\"2^6:A8\"), # 41 classes\n",
    "        [1, 2, 3], rational = true, ppow_nonzero = true);\n",
    "length(res)"
   ]
  },
  {
   "cell_type": "markdown",
   "metadata": {},
   "source": [
    "Run over all groups of order less than 1536 and with at most 40 rational conjugacy classes. Search only for *rational* examples.\n",
    "\n",
    "(This runs for a long time, due to the many groups, and without finding examples.)"
   ]
  },
  {
   "cell_type": "code",
   "execution_count": null,
   "metadata": {},
   "outputs": [],
   "source": [
    "for n in 2:1535\n",
    "  # p-groups cannot yield examples\n",
    "  is_prime_power_with_data(n)[1] && continue\n",
    "  for i in 1:number_of_small_groups(n)\n",
    "    G = small_group(n, i)\n",
    "\n",
    "    # omit abelian groups\n",
    "    is_abelian(G) && continue\n",
    "\n",
    "    # omit solvable groups with noncyclic centre or noncyclic commutator factor\n",
    "    is_solvable(G) && !(is_cyclic(center(G)[1]) &&\n",
    "                        is_cyclic(maximal_abelian_quotient(G)[1])) && continue\n",
    "\n",
    "    # omit groups with too many classes\n",
    "    t = character_table(G)\n",
    "    m = GAP.Globals.RationalizedMat(GAP.Globals.Irr(GapObj(t)))\n",
    "    length(m) > 40 && continue\n",
    "\n",
    "    res = s_characters(t, rational = true, ppow_nonzero = true)\n",
    "    length(res) != 0 && error(\"found solvable example \", (n, i))\n",
    "  end\n",
    "end"
   ]
  }
 ],
 "metadata": {
  "kernelspec": {
   "display_name": "Julia 1.10.9",
   "language": "julia",
   "name": "julia-1.10"
  },
  "language_info": {
   "file_extension": ".jl",
   "mimetype": "application/julia",
   "name": "julia",
   "version": "1.10.9"
  }
 },
 "nbformat": 4,
 "nbformat_minor": 4
}
